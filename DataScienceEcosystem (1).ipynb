{
 "cells": [
  {
   "cell_type": "markdown",
   "id": "58523fb8-dcb4-4229-921e-843d71e198e3",
   "metadata": {},
   "source": [
    "# Data Science Tools and Ecosystem"
   ]
  },
  {
   "cell_type": "markdown",
   "id": "f39138ae-e66f-47b6-a125-85c42b68213a",
   "metadata": {},
   "source": [
    "## In this Notebook, Data Science Tools and Ecosystem are summarized"
   ]
  },
  {
   "cell_type": "markdown",
   "id": "105e0b80-5cb0-4008-9548-3b817246efd1",
   "metadata": {},
   "source": [
    "**Objectives:**\n",
    "--- \n",
    "- Popular Languages\n",
    "- Common Libraries\n",
    "- Arithmetic Expressions\n"
   ]
  },
  {
   "cell_type": "markdown",
   "id": "d340788d-e129-4bbe-93d8-bc0f4e4d8830",
   "metadata": {},
   "source": [
    "### Some of the Popular Languages that Data Scientists use are:\n",
    "\n",
    "1. Python\n",
    "2. Java\n",
    "3. C++ "
   ]
  },
  {
   "cell_type": "markdown",
   "id": "73279ad7-d6a3-41eb-ad3a-e49b88c4e4d6",
   "metadata": {},
   "source": [
    "### Some of the commonly used libraries used by Data Scientists are:\n",
    "1. Pandas\n",
    "2. Numpy\n",
    "3. MatPlotLibs"
   ]
  },
  {
   "cell_type": "markdown",
   "id": "86df8d7f-5030-48cd-a1f9-aacb540b828a",
   "metadata": {},
   "source": [
    "| Data Science Tools |\n",
    "---\n",
    "| Rstudio |\n",
    "| Apache Spark |\n",
    "| TensorFlow |"
   ]
  },
  {
   "cell_type": "markdown",
   "id": "62ce4eb1-7029-4546-b9fe-d73aaef6733c",
   "metadata": {},
   "source": [
    "### Below are a few examples of arithmitic expressions in python:"
   ]
  },
  {
   "cell_type": "code",
   "execution_count": 1,
   "id": "c09ca202-d88f-49af-8d9b-da3339276247",
   "metadata": {},
   "outputs": [
    {
     "data": {
      "text/plain": [
       "17"
      ]
     },
     "execution_count": 1,
     "metadata": {},
     "output_type": "execute_result"
    }
   ],
   "source": [
    "(3 * 4) + 5"
   ]
  },
  {
   "cell_type": "code",
   "execution_count": 8,
   "id": "e933348d-bcee-4882-b3e0-b2e2b35f39c9",
   "metadata": {},
   "outputs": [
    {
     "name": "stdout",
     "output_type": "stream",
     "text": [
      "3.3333333333333335\n"
     ]
    }
   ],
   "source": [
    "# this will convert 200 minutes to hours by dividing by 60\n",
    "x = 200\n",
    "y = 60\n",
    "z = (x / y)\n",
    "\n",
    "print(z)"
   ]
  },
  {
   "cell_type": "markdown",
   "id": "b7ad9d24-fe0d-44c5-a4e1-eb364c41504c",
   "metadata": {},
   "source": [
    "## Author : Bailey Jones"
   ]
  },
  {
   "cell_type": "code",
   "execution_count": null,
   "id": "5d00f68b-620d-4ec1-8bf9-1c64df86fdd6",
   "metadata": {},
   "outputs": [],
   "source": []
  }
 ],
 "metadata": {
  "kernelspec": {
   "display_name": "Python",
   "language": "python",
   "name": "conda-env-python-py"
  },
  "language_info": {
   "codemirror_mode": {
    "name": "ipython",
    "version": 3
   },
   "file_extension": ".py",
   "mimetype": "text/x-python",
   "name": "python",
   "nbconvert_exporter": "python",
   "pygments_lexer": "ipython3",
   "version": "3.7.12"
  }
 },
 "nbformat": 4,
 "nbformat_minor": 5
}
